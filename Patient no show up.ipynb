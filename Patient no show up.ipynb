{
 "cells": [
  {
   "cell_type": "markdown",
   "metadata": {},
   "source": [
    "### Predictive Model for No show-up patients"
   ]
  },
  {
   "cell_type": "markdown",
   "metadata": {},
   "source": [
    "**by Fareeda Saleh**"
   ]
  },
  {
   "cell_type": "markdown",
   "metadata": {},
   "source": [
    "#### Introduction:"
   ]
  },
  {
   "cell_type": "markdown",
   "metadata": {},
   "source": [
    "This kernall is tried to focus on (No Show up patient)  problem in Vitoria the capital city of Espirito Santo State-Brazil, which the patient set his appointment then he/she don't show up!!\n",
    "so I conducted a quick analysis to identfy what cause this problem and built a predictive model to predict the patient who doesn't show up.\n",
    "\n",
    "\n",
    "first I will load the necessary packages for this analysis."
   ]
  },
  {
   "cell_type": "code",
   "execution_count": 851,
   "metadata": {
    "collapsed": true
   },
   "outputs": [],
   "source": [
    " # load necessary packages \n",
    "import pandas as  pd \n",
    "import numpy  as  np\n",
    "from IPython.display import display\n",
    "import matplotlib.pyplot as plt\n",
    "%matplotlib inline\n",
    "import sklearn\n",
    "import seaborn as sns\n"
   ]
  },
  {
   "cell_type": "code",
   "execution_count": 852,
   "metadata": {
    "collapsed": true
   },
   "outputs": [],
   "source": [
    " Patient = pd.read_csv(\"C:\\Users\\Fralh\\Downloads\\KaggleV2-May-2016.csv\") "
   ]
  },
  {
   "cell_type": "markdown",
   "metadata": {},
   "source": [
    "let's take a general overview about these data:"
   ]
  },
  {
   "cell_type": "code",
   "execution_count": 853,
   "metadata": {},
   "outputs": [
    {
     "name": "stdout",
     "output_type": "stream",
     "text": [
      "(110527, 14)\n"
     ]
    }
   ],
   "source": [
    " ##Dimensions of the Dataset\n",
    "print  (Patient.shape) "
   ]
  },
  {
   "cell_type": "markdown",
   "metadata": {},
   "source": [
    "So, we have 14 variables and 110527 records."
   ]
  },
  {
   "cell_type": "code",
   "execution_count": 854,
   "metadata": {},
   "outputs": [
    {
     "data": {
      "text/html": [
       "<div>\n",
       "<style>\n",
       "    .dataframe thead tr:only-child th {\n",
       "        text-align: right;\n",
       "    }\n",
       "\n",
       "    .dataframe thead th {\n",
       "        text-align: left;\n",
       "    }\n",
       "\n",
       "    .dataframe tbody tr th {\n",
       "        vertical-align: top;\n",
       "    }\n",
       "</style>\n",
       "<table border=\"1\" class=\"dataframe\">\n",
       "  <thead>\n",
       "    <tr style=\"text-align: right;\">\n",
       "      <th></th>\n",
       "      <th>PatientId</th>\n",
       "      <th>AppointmentID</th>\n",
       "      <th>Gender</th>\n",
       "      <th>ScheduledDay</th>\n",
       "      <th>AppointmentDay</th>\n",
       "      <th>Age</th>\n",
       "      <th>Neighbourhood</th>\n",
       "      <th>Scholarship</th>\n",
       "      <th>Hipertension</th>\n",
       "      <th>Diabetes</th>\n",
       "      <th>Alcoholism</th>\n",
       "      <th>Handcap</th>\n",
       "      <th>SMS_received</th>\n",
       "      <th>No-show</th>\n",
       "    </tr>\n",
       "  </thead>\n",
       "  <tbody>\n",
       "    <tr>\n",
       "      <th>0</th>\n",
       "      <td>2.987250e+13</td>\n",
       "      <td>5642903</td>\n",
       "      <td>F</td>\n",
       "      <td>2016-04-29T18:38:08Z</td>\n",
       "      <td>2016-04-29T00:00:00Z</td>\n",
       "      <td>62</td>\n",
       "      <td>JARDIM DA PENHA</td>\n",
       "      <td>0</td>\n",
       "      <td>1</td>\n",
       "      <td>0</td>\n",
       "      <td>0</td>\n",
       "      <td>0</td>\n",
       "      <td>0</td>\n",
       "      <td>No</td>\n",
       "    </tr>\n",
       "    <tr>\n",
       "      <th>1</th>\n",
       "      <td>5.589978e+14</td>\n",
       "      <td>5642503</td>\n",
       "      <td>M</td>\n",
       "      <td>2016-04-29T16:08:27Z</td>\n",
       "      <td>2016-04-29T00:00:00Z</td>\n",
       "      <td>56</td>\n",
       "      <td>JARDIM DA PENHA</td>\n",
       "      <td>0</td>\n",
       "      <td>0</td>\n",
       "      <td>0</td>\n",
       "      <td>0</td>\n",
       "      <td>0</td>\n",
       "      <td>0</td>\n",
       "      <td>No</td>\n",
       "    </tr>\n",
       "    <tr>\n",
       "      <th>2</th>\n",
       "      <td>4.262962e+12</td>\n",
       "      <td>5642549</td>\n",
       "      <td>F</td>\n",
       "      <td>2016-04-29T16:19:04Z</td>\n",
       "      <td>2016-04-29T00:00:00Z</td>\n",
       "      <td>62</td>\n",
       "      <td>MATA DA PRAIA</td>\n",
       "      <td>0</td>\n",
       "      <td>0</td>\n",
       "      <td>0</td>\n",
       "      <td>0</td>\n",
       "      <td>0</td>\n",
       "      <td>0</td>\n",
       "      <td>No</td>\n",
       "    </tr>\n",
       "    <tr>\n",
       "      <th>3</th>\n",
       "      <td>8.679512e+11</td>\n",
       "      <td>5642828</td>\n",
       "      <td>F</td>\n",
       "      <td>2016-04-29T17:29:31Z</td>\n",
       "      <td>2016-04-29T00:00:00Z</td>\n",
       "      <td>8</td>\n",
       "      <td>PONTAL DE CAMBURI</td>\n",
       "      <td>0</td>\n",
       "      <td>0</td>\n",
       "      <td>0</td>\n",
       "      <td>0</td>\n",
       "      <td>0</td>\n",
       "      <td>0</td>\n",
       "      <td>No</td>\n",
       "    </tr>\n",
       "    <tr>\n",
       "      <th>4</th>\n",
       "      <td>8.841186e+12</td>\n",
       "      <td>5642494</td>\n",
       "      <td>F</td>\n",
       "      <td>2016-04-29T16:07:23Z</td>\n",
       "      <td>2016-04-29T00:00:00Z</td>\n",
       "      <td>56</td>\n",
       "      <td>JARDIM DA PENHA</td>\n",
       "      <td>0</td>\n",
       "      <td>1</td>\n",
       "      <td>1</td>\n",
       "      <td>0</td>\n",
       "      <td>0</td>\n",
       "      <td>0</td>\n",
       "      <td>No</td>\n",
       "    </tr>\n",
       "  </tbody>\n",
       "</table>\n",
       "</div>"
      ],
      "text/plain": [
       "      PatientId  AppointmentID Gender          ScheduledDay  \\\n",
       "0  2.987250e+13        5642903      F  2016-04-29T18:38:08Z   \n",
       "1  5.589978e+14        5642503      M  2016-04-29T16:08:27Z   \n",
       "2  4.262962e+12        5642549      F  2016-04-29T16:19:04Z   \n",
       "3  8.679512e+11        5642828      F  2016-04-29T17:29:31Z   \n",
       "4  8.841186e+12        5642494      F  2016-04-29T16:07:23Z   \n",
       "\n",
       "         AppointmentDay  Age      Neighbourhood  Scholarship  Hipertension  \\\n",
       "0  2016-04-29T00:00:00Z   62    JARDIM DA PENHA            0             1   \n",
       "1  2016-04-29T00:00:00Z   56    JARDIM DA PENHA            0             0   \n",
       "2  2016-04-29T00:00:00Z   62      MATA DA PRAIA            0             0   \n",
       "3  2016-04-29T00:00:00Z    8  PONTAL DE CAMBURI            0             0   \n",
       "4  2016-04-29T00:00:00Z   56    JARDIM DA PENHA            0             1   \n",
       "\n",
       "   Diabetes  Alcoholism  Handcap  SMS_received No-show  \n",
       "0         0           0        0             0      No  \n",
       "1         0           0        0             0      No  \n",
       "2         0           0        0             0      No  \n",
       "3         0           0        0             0      No  \n",
       "4         1           0        0             0      No  "
      ]
     },
     "metadata": {},
     "output_type": "display_data"
    }
   ],
   "source": [
    " ## take a sample of dataset.\n",
    "display(Patient.head(5)) "
   ]
  },
  {
   "cell_type": "code",
   "execution_count": 855,
   "metadata": {},
   "outputs": [
    {
     "data": {
      "text/html": [
       "<div>\n",
       "<style>\n",
       "    .dataframe thead tr:only-child th {\n",
       "        text-align: right;\n",
       "    }\n",
       "\n",
       "    .dataframe thead th {\n",
       "        text-align: left;\n",
       "    }\n",
       "\n",
       "    .dataframe tbody tr th {\n",
       "        vertical-align: top;\n",
       "    }\n",
       "</style>\n",
       "<table border=\"1\" class=\"dataframe\">\n",
       "  <thead>\n",
       "    <tr style=\"text-align: right;\">\n",
       "      <th></th>\n",
       "      <th>PatientId</th>\n",
       "      <th>AppointmentID</th>\n",
       "      <th>Gender</th>\n",
       "      <th>ScheduledDay</th>\n",
       "      <th>AppointmentDay</th>\n",
       "      <th>Age</th>\n",
       "      <th>Neighbourhood</th>\n",
       "      <th>Scholarship</th>\n",
       "      <th>Hipertension</th>\n",
       "      <th>Diabetes</th>\n",
       "      <th>Alcoholism</th>\n",
       "      <th>Handcap</th>\n",
       "      <th>SMS_received</th>\n",
       "      <th>No-show</th>\n",
       "    </tr>\n",
       "  </thead>\n",
       "  <tbody>\n",
       "    <tr>\n",
       "      <th>110522</th>\n",
       "      <td>2.572134e+12</td>\n",
       "      <td>5651768</td>\n",
       "      <td>F</td>\n",
       "      <td>2016-05-03T09:15:35Z</td>\n",
       "      <td>2016-06-07T00:00:00Z</td>\n",
       "      <td>56</td>\n",
       "      <td>MARIA ORTIZ</td>\n",
       "      <td>0</td>\n",
       "      <td>0</td>\n",
       "      <td>0</td>\n",
       "      <td>0</td>\n",
       "      <td>0</td>\n",
       "      <td>1</td>\n",
       "      <td>No</td>\n",
       "    </tr>\n",
       "    <tr>\n",
       "      <th>110523</th>\n",
       "      <td>3.596266e+12</td>\n",
       "      <td>5650093</td>\n",
       "      <td>F</td>\n",
       "      <td>2016-05-03T07:27:33Z</td>\n",
       "      <td>2016-06-07T00:00:00Z</td>\n",
       "      <td>51</td>\n",
       "      <td>MARIA ORTIZ</td>\n",
       "      <td>0</td>\n",
       "      <td>0</td>\n",
       "      <td>0</td>\n",
       "      <td>0</td>\n",
       "      <td>0</td>\n",
       "      <td>1</td>\n",
       "      <td>No</td>\n",
       "    </tr>\n",
       "    <tr>\n",
       "      <th>110524</th>\n",
       "      <td>1.557663e+13</td>\n",
       "      <td>5630692</td>\n",
       "      <td>F</td>\n",
       "      <td>2016-04-27T16:03:52Z</td>\n",
       "      <td>2016-06-07T00:00:00Z</td>\n",
       "      <td>21</td>\n",
       "      <td>MARIA ORTIZ</td>\n",
       "      <td>0</td>\n",
       "      <td>0</td>\n",
       "      <td>0</td>\n",
       "      <td>0</td>\n",
       "      <td>0</td>\n",
       "      <td>1</td>\n",
       "      <td>No</td>\n",
       "    </tr>\n",
       "    <tr>\n",
       "      <th>110525</th>\n",
       "      <td>9.213493e+13</td>\n",
       "      <td>5630323</td>\n",
       "      <td>F</td>\n",
       "      <td>2016-04-27T15:09:23Z</td>\n",
       "      <td>2016-06-07T00:00:00Z</td>\n",
       "      <td>38</td>\n",
       "      <td>MARIA ORTIZ</td>\n",
       "      <td>0</td>\n",
       "      <td>0</td>\n",
       "      <td>0</td>\n",
       "      <td>0</td>\n",
       "      <td>0</td>\n",
       "      <td>1</td>\n",
       "      <td>No</td>\n",
       "    </tr>\n",
       "    <tr>\n",
       "      <th>110526</th>\n",
       "      <td>3.775115e+14</td>\n",
       "      <td>5629448</td>\n",
       "      <td>F</td>\n",
       "      <td>2016-04-27T13:30:56Z</td>\n",
       "      <td>2016-06-07T00:00:00Z</td>\n",
       "      <td>54</td>\n",
       "      <td>MARIA ORTIZ</td>\n",
       "      <td>0</td>\n",
       "      <td>0</td>\n",
       "      <td>0</td>\n",
       "      <td>0</td>\n",
       "      <td>0</td>\n",
       "      <td>1</td>\n",
       "      <td>No</td>\n",
       "    </tr>\n",
       "  </tbody>\n",
       "</table>\n",
       "</div>"
      ],
      "text/plain": [
       "           PatientId  AppointmentID Gender          ScheduledDay  \\\n",
       "110522  2.572134e+12        5651768      F  2016-05-03T09:15:35Z   \n",
       "110523  3.596266e+12        5650093      F  2016-05-03T07:27:33Z   \n",
       "110524  1.557663e+13        5630692      F  2016-04-27T16:03:52Z   \n",
       "110525  9.213493e+13        5630323      F  2016-04-27T15:09:23Z   \n",
       "110526  3.775115e+14        5629448      F  2016-04-27T13:30:56Z   \n",
       "\n",
       "              AppointmentDay  Age Neighbourhood  Scholarship  Hipertension  \\\n",
       "110522  2016-06-07T00:00:00Z   56   MARIA ORTIZ            0             0   \n",
       "110523  2016-06-07T00:00:00Z   51   MARIA ORTIZ            0             0   \n",
       "110524  2016-06-07T00:00:00Z   21   MARIA ORTIZ            0             0   \n",
       "110525  2016-06-07T00:00:00Z   38   MARIA ORTIZ            0             0   \n",
       "110526  2016-06-07T00:00:00Z   54   MARIA ORTIZ            0             0   \n",
       "\n",
       "        Diabetes  Alcoholism  Handcap  SMS_received No-show  \n",
       "110522         0           0        0             1      No  \n",
       "110523         0           0        0             1      No  \n",
       "110524         0           0        0             1      No  \n",
       "110525         0           0        0             1      No  \n",
       "110526         0           0        0             1      No  "
      ]
     },
     "metadata": {},
     "output_type": "display_data"
    }
   ],
   "source": [
    " ## take a sample of dataset. \n",
    "display(Patient.tail(5)) "
   ]
  },
  {
   "cell_type": "markdown",
   "metadata": {},
   "source": [
    "### Data Wringling\n"
   ]
  },
  {
   "cell_type": "markdown",
   "metadata": {},
   "source": [
    "Now in this step, I will prepare the data for the analysis by checking if there is missing values or invalid values."
   ]
  },
  {
   "cell_type": "code",
   "execution_count": 856,
   "metadata": {},
   "outputs": [
    {
     "name": "stdout",
     "output_type": "stream",
     "text": [
      "<class 'pandas.core.frame.DataFrame'>\n",
      "RangeIndex: 110527 entries, 0 to 110526\n",
      "Data columns (total 14 columns):\n",
      "PatientId         110527 non-null float64\n",
      "AppointmentID     110527 non-null int64\n",
      "Gender            110527 non-null object\n",
      "ScheduledDay      110527 non-null object\n",
      "AppointmentDay    110527 non-null object\n",
      "Age               110527 non-null int64\n",
      "Neighbourhood     110527 non-null object\n",
      "Scholarship       110527 non-null int64\n",
      "Hipertension      110527 non-null int64\n",
      "Diabetes          110527 non-null int64\n",
      "Alcoholism        110527 non-null int64\n",
      "Handcap           110527 non-null int64\n",
      "SMS_received      110527 non-null int64\n",
      "No-show           110527 non-null object\n",
      "dtypes: float64(1), int64(8), object(5)\n",
      "memory usage: 11.8+ MB\n"
     ]
    }
   ],
   "source": [
    "Patient.info() "
   ]
  },
  {
   "cell_type": "markdown",
   "metadata": {},
   "source": [
    "good, there are no missing values!! now I will classify the variables into four groups patient information, appointment information, health situation and the general information, I think this will help me in data preparation process.\n"
   ]
  },
  {
   "cell_type": "markdown",
   "metadata": {},
   "source": [
    "** 1- Patient Information**\n",
    "\n",
    "- PatientId \n",
    "- Gender\n",
    "- Age\n",
    "\n"
   ]
  },
  {
   "cell_type": "markdown",
   "metadata": {},
   "source": [
    "I will ignore Patient Id as I think it has no importance in our analysis. Now let check the values of Gender and Age:\n"
   ]
  },
  {
   "cell_type": "code",
   "execution_count": 857,
   "metadata": {},
   "outputs": [
    {
     "name": "stdout",
     "output_type": "stream",
     "text": [
      "Gender:['M', 'F']\n",
      "Age : [0, 1, 2, 3, 4, 5, 6, 7, 8, 9, 10, 11, 12, 13, 14, 15, 16, 17, 18, 19, 20, 21, 22, 23, 24, 25, 26, 27, 28, 29, 30, 31, 32, 33, 34, 35, 36, 37, 38, 39, 40, 41, 42, 43, 44, 45, 46, 47, 48, 49, 50, 51, 52, 53, 54, 55, 56, 57, 58, 59, 60, 61, 62, 63, 64, 65, 66, 67, 68, 69, 70, 71, 72, 73, 74, 75, 76, 77, 78, 79, 80, 81, 82, 83, 84, 85, 86, 87, 88, 89, 90, 91, 92, 93, 94, 95, 96, 97, 98, 99, 100, 102, 115, -1]\n"
     ]
    }
   ],
   "source": [
    " # delete the patient Id \n",
    "del Patient[\"PatientId\"]\n",
    "# check the values of the rest of patient information group.\n",
    "print \"Gender:{}\".format(list(set (Patient[\"Gender\"]))) \n",
    " print \"Age : {}\".format(list(set(Patient[\"Age\"]))) "
   ]
  },
  {
   "cell_type": "markdown",
   "metadata": {},
   "source": [
    "There are tow values for gender M = male and F= Female so no need to perform any cleaning or auditing process, but in the Age variable We can see strang values for some patients like 100 and above and negative values, I wonder if the negative values mean baby before born or it may come from a typo error however as I'm not sure about this value I will delete it, also I check in the  [geoba.se](http://www.geoba.se/country.php?cc=BR&year=2017) and I found the average of life expectancy in Brazil is about 74.06 and there are just 4,388 people have age 100 and above so I will choose to delete patients who have age in this range.In addition we will classify the patient according to their age to child, adult and senior.\n"
   ]
  },
  {
   "cell_type": "code",
   "execution_count": 858,
   "metadata": {
    "collapsed": true
   },
   "outputs": [],
   "source": [
    " Patient = Patient[(Patient[\"Age\"] < 100) & (Patient[\"Age\"]>0)] "
   ]
  },
  {
   "cell_type": "code",
   "execution_count": 859,
   "metadata": {
    "collapsed": true
   },
   "outputs": [],
   "source": [
    "def FormatAge (age):\n",
    "    if age['Age']>0 and age['Age']<=17 :\n",
    "        return 'Child'\n",
    "    elif age['Age']>=18 and age['Age'] <50:\n",
    "        return 'Adult'\n",
    "    else:\n",
    "        return 'Senior'"
   ]
  },
  {
   "cell_type": "code",
   "execution_count": 860,
   "metadata": {
    "collapsed": true
   },
   "outputs": [],
   "source": [
    "Patient['AgeClass'] = Patient.apply(FormatAge,axis=1)"
   ]
  },
  {
   "cell_type": "markdown",
   "metadata": {},
   "source": [
    " **2- Appointment Information**\n",
    " \n",
    "- AppointmentID \n",
    "- ScheduledDay\n",
    "- AppointmentDay\n",
    "\n"
   ]
  },
  {
   "cell_type": "markdown",
   "metadata": {},
   "source": [
    "for the group of Appointment Information, I will remove the AppointmentID from our dataset and reformate the ScheduledDay, in addition, i will create a new variable WaitingDay which mean the duration between the scheduled date and the appointment date.\n"
   ]
  },
  {
   "cell_type": "code",
   "execution_count": 861,
   "metadata": {
    "collapsed": true
   },
   "outputs": [],
   "source": [
    " # AppointmentID \n",
    "del Patient[\"AppointmentID\"]  \n",
    " # Reformatting the Scheduled Date and Appointment Day \n",
    "def AppointmentFormat(Patient):  \n",
    "    Patient[\"ScheduledDay\"] = pd.to_datetime(Patient[\"ScheduledDay\"], format=\"%Y/%m/%d %H:%M:%S\")\n",
    "    Patient[\"AppointmentDay\"] = pd.to_datetime(Patient[\"AppointmentDay\"], format=\"%Y/%m/%d %H:%M:%S\") \n",
    "    Patient[\"Scheduledyear\"]= Patient[\"ScheduledDay\"].dt.year \n",
    "    Patient[\"Scheduledmonth\"]= Patient[\"ScheduledDay\"].dt.month   \n",
    "    Patient[\"Scheduledweek\"]= Patient[\"ScheduledDay\"].dt.weekday   \n",
    "    Patient[\"Scheduledhour\"]= Patient[\"ScheduledDay\"].dt.hour \n",
    "# Appointment Day Reformatting and create additional col \n",
    "    Patient[\"Appointmentyear\"]= Patient[\"AppointmentDay\"].dt.year  \n",
    "    Patient[\"Appointmentmonth\"]= Patient[\"AppointmentDay\"].dt.month   \n",
    "    Patient[\"Appointmentweek\"]= Patient[\"AppointmentDay\"].dt.weekday \n",
    "    Patient['WaitingDay']=np.where(Patient.ScheduledDay.dt.date==Patient.AppointmentDay.dt.date, 0, Patient.AppointmentDay.sub(Patient.ScheduledDay))\n",
    "\n",
    "    \n",
    "AppointmentFormat(Patient) \n"
   ]
  },
  {
   "cell_type": "markdown",
   "metadata": {},
   "source": [
    "** 3.Health Situation**\n",
    "- Hypertension \n",
    "- Diabetes\n",
    "- Alcoholism\n",
    "- Handcap\n"
   ]
  },
  {
   "cell_type": "code",
   "execution_count": 862,
   "metadata": {
    "collapsed": true
   },
   "outputs": [],
   "source": [
    " # correcte the misspiling for Hipertension clumane\n",
    "Patient = Patient.rename(columns = {'Hipertension':'Hypertension'}) "
   ]
  },
  {
   "cell_type": "code",
   "execution_count": 863,
   "metadata": {},
   "outputs": [
    {
     "name": "stdout",
     "output_type": "stream",
     "text": [
      "Hypertension:[0, 1]\n",
      "Diabetes : [0, 1]\n",
      "Alcoholism:[0, 1]\n",
      "Handcap : [0, 1, 2, 3, 4]\n"
     ]
    }
   ],
   "source": [
    "#chek the valus of varibles. \n",
    "print \"Hypertension:{}\".format(list(set (Patient[\"Hypertension\"]))) \n",
    "print \"Diabetes : {}\".format(list(set(Patient[\"Diabetes\"]))) \n",
    "print \"Alcoholism:{}\".format(list(set(Patient[\"Alcoholism\"]))) \n",
    "print \"Handcap : {}\".format(list(set(Patient[\"Handcap\"])))"
   ]
  },
  {
   "cell_type": "markdown",
   "metadata": {},
   "source": [
    "**4- Genral Infomation**\n",
    "- SMS_received\n",
    "- No-show\n",
    "- Neighbourhood\n",
    "- Scholarship\n",
    "\n"
   ]
  },
  {
   "cell_type": "code",
   "execution_count": 864,
   "metadata": {},
   "outputs": [
    {
     "name": "stdout",
     "output_type": "stream",
     "text": [
      "SMS:[0, 1]\n",
      "No-show : ['Yes', 'No']\n",
      "Scholarship:[0, 1]\n",
      "Neighbourhood : ['BOA VISTA', 'BARRO VERMELHO', 'CRUZAMENTO', 'SANTA HELENA', 'SOLON BORGES', 'SANTA MARTHA', 'BELA VISTA', 'PARQUE MOSCOSO', 'ILHA DO BOI', 'HORTO', 'DO QUADRO', 'S\\xc3\\x83O PEDRO', 'SANTA L\\xc3\\x9aCIA', 'ARIOVALDO FAVALESSA', 'DE LOURDES', 'SEGURAN\\xc3\\x87A DO LAR', 'CONQUISTA', 'S\\xc3\\x83O BENEDITO', 'MARU\\xc3\\x8dPE', 'COMDUSA', 'DA PENHA', 'FORTE S\\xc3\\x83O JO\\xc3\\x83O', 'JESUS DE NAZARETH', 'JOANA D\\xc2\\xb4ARC', 'FRADINHOS', 'SANTA TEREZA', 'INHANGUET\\xc3\\x81', 'GURIGICA', 'BONFIM', 'FONTE GRANDE', 'ESTRELINHA', 'S\\xc3\\x83O JOS\\xc3\\x89', 'REP\\xc3\\x9aBLICA', 'SANTOS DUMONT', 'SANTA CEC\\xc3\\x8dLIA', 'JUCUTUQUARA', 'RESIST\\xc3\\x8aNCIA', 'JARDIM DA PENHA', 'JABOUR', 'M\\xc3\\x81RIO CYPRESTE', 'S\\xc3\\x83O CRIST\\xc3\\x93V\\xc3\\x83O', 'NOVA PALESTINA', 'ENSEADA DO SU\\xc3\\x81', 'MONTE BELO', 'SANTA CLARA', 'ILHAS OCE\\xc3\\x82NICAS DE TRINDADE', 'JARDIM CAMBURI', 'ILHA DE SANTA MARIA', 'DO MOSCOSO', 'GRANDE VIT\\xc3\\x93RIA', 'SANTO ANT\\xc3\\x94NIO', 'CENTRO', 'ILHA DAS CAIEIRAS', 'AEROPORTO', 'PARQUE INDUSTRIAL', 'ANDORINHAS', 'PONTAL DE CAMBURI', 'GOIABEIRAS', 'NAZARETH', 'MORADA DE CAMBURI', 'MATA DA PRAIA', 'SANTA LU\\xc3\\x8dZA', 'ILHA DO FRADE', 'ROM\\xc3\\x83O', 'VILA RUBIM', 'BENTO FERREIRA', 'CARATO\\xc3\\x8dRA', 'PRAIA DO CANTO', 'SANTOS REIS', 'ILHA DO PR\\xc3\\x8dNCIPE', 'TABUAZEIRO', 'UNIVERSIT\\xc3\\x81RIO', 'MARIA ORTIZ', 'PIEDADE', 'PRAIA DO SU\\xc3\\x81', 'CONSOLA\\xc3\\x87\\xc3\\x83O', 'ITARAR\\xc3\\x89', 'SANTO ANDR\\xc3\\x89', 'ANT\\xc3\\x94NIO HON\\xc3\\x93RIO', 'DO CABRAL', 'REDEN\\xc3\\x87\\xc3\\x83O']\n"
     ]
    }
   ],
   "source": [
    "print \"SMS:{}\".format(list(set (Patient[\"SMS_received\"]))) \n",
    "print \"No-show : {}\".format(list(set(Patient[\"No-show\"]))) \n",
    "print \"Scholarship:{}\".format(list(set(Patient[\"Scholarship\"])))  \n",
    "print \"Neighbourhood : {}\".format(list(set(Patient[\"Neighbourhood\"]))) "
   ]
  },
  {
   "cell_type": "code",
   "execution_count": 865,
   "metadata": {},
   "outputs": [
    {
     "name": "stdout",
     "output_type": "stream",
     "text": [
      "(106976, 21)\n"
     ]
    }
   ],
   "source": [
    "print  (Patient.shape) "
   ]
  },
  {
   "cell_type": "markdown",
   "metadata": {},
   "source": [
    "ok, we start with 14 varibles and now we end up with 21 varibles,I think the data seems to be clean enughe and valied to start the analysis.\n"
   ]
  },
  {
   "cell_type": "markdown",
   "metadata": {},
   "source": [
    "### Data Analysis:\n"
   ]
  },
  {
   "cell_type": "markdown",
   "metadata": {},
   "source": [
    "**first let see How many patient attende thier appointment :**\n"
   ]
  },
  {
   "cell_type": "code",
   "execution_count": 866,
   "metadata": {},
   "outputs": [
    {
     "name": "stdout",
     "output_type": "stream",
     "text": [
      "No-show\n",
      "No     85299\n",
      "Yes    21677\n",
      "dtype: int64\n"
     ]
    }
   ],
   "source": [
    " print (Patient.groupby(\"No-show\").size()) "
   ]
  },
  {
   "cell_type": "markdown",
   "metadata": {},
   "source": [
    " (20.27%) of the Patients not attend the appointment and approximately (79.73%) of them came to their appointment, so we will try to go deeper in the data and identify how each features play roles in this problem.\n"
   ]
  },
  {
   "cell_type": "markdown",
   "metadata": {},
   "source": [
    "** How the  Patient gender play role in this analysis?? **"
   ]
  },
  {
   "cell_type": "code",
   "execution_count": 867,
   "metadata": {},
   "outputs": [
    {
     "name": "stdout",
     "output_type": "stream",
     "text": [
      "Distribution of Gender\n",
      "Gender\n",
      "F    70109\n",
      "M    36867\n",
      "Name: Gender, dtype: int64\n"
     ]
    }
   ],
   "source": [
    "\n",
    "print('Distribution of Gender')\n",
    "print(Patient.groupby(['Gender']).Gender.count())\n",
    "\n"
   ]
  },
  {
   "cell_type": "code",
   "execution_count": 868,
   "metadata": {},
   "outputs": [
    {
     "data": {
      "image/png": "[encoded data removed]",
      "text/plain": [
       "<matplotlib.figure.Figure at 0x45059588>"
      ]
     },
     "metadata": {},
     "output_type": "display_data"
    }
   ],
   "source": [
    "sns.set_style('darkgrid')\n",
    "sns.countplot(Patient['Gender'], alpha =.80, palette= ['pink','blue'])\n",
    "plt.title('Distribution of Gender ')\n",
    "plt.ylabel('# Patients')\n",
    "plt.show()"
   ]
  },
  {
   "cell_type": "code",
   "execution_count": 869,
   "metadata": {},
   "outputs": [
    {
     "name": "stdout",
     "output_type": "stream",
     "text": [
      "Gender  No-show\n",
      "F       No         0.796431\n",
      "        Yes        0.203569\n",
      "M       No         0.799143\n",
      "        Yes        0.200857\n",
      "Name: No-show, dtype: float64\n"
     ]
    }
   ],
   "source": [
    "\n",
    "print(Patient.groupby('Gender')['No-show'].value_counts(normalize = True))\n"
   ]
  },
  {
   "cell_type": "code",
   "execution_count": 870,
   "metadata": {},
   "outputs": [
    {
     "data": {
      "image/png": "[encoded data removed]",
      "text/plain": [
       "<matplotlib.figure.Figure at 0x33d8a588>"
      ]
     },
     "metadata": {},
     "output_type": "display_data"
    }
   ],
   "source": [
    "Patient.groupby('Gender')['No-show'].value_counts(normalize = True).plot(kind='bar')\n",
    "plt.show()\n",
    "\n",
    "\n"
   ]
  },
  {
   "cell_type": "markdown",
   "metadata": {
    "collapsed": true
   },
   "source": [
    "We can see the women are most likely visit the hospitals than men this may due to several reasons : women take care about her health than men and also the pregnant woman usually visit the hospital several time during her pregnancy, and we may consider that the population mean for women is greater than mean in Brazil, but when we foucse on the (Show up) statuse we can see   79.6% of wamen attened to their appointment compared to 79.9% of men, so women and men are most likly to have the same rate of attendance."
   ]
  },
  {
   "cell_type": "markdown",
   "metadata": {},
   "source": [
    "** Does the Age affected the patient attendance to their appointment? Dose the elderly woman take care about her health more than elderly man?**"
   ]
  },
  {
   "cell_type": "code",
   "execution_count": 871,
   "metadata": {},
   "outputs": [
    {
     "data": {
      "image/png": "[encoded data removed]",
      "text/plain": [
       "<matplotlib.figure.Figure at 0x30346f98>"
      ]
     },
     "metadata": {},
     "output_type": "display_data"
    }
   ],
   "source": [
    "##Age Distrabuation\n",
    "Patient.plot(kind = \"hist\",y = \"Age\",bins =100,range= (0,100)) \n",
    "plt.show() "
   ]
  },
  {
   "cell_type": "code",
   "execution_count": 872,
   "metadata": {},
   "outputs": [
    {
     "data": {
      "image/png": "[encoded data removed]",
      "text/plain": [
       "<matplotlib.figure.Figure at 0x3a1cc4a8>"
      ]
     },
     "metadata": {},
     "output_type": "display_data"
    },
    {
     "name": "stdout",
     "output_type": "stream",
     "text": [
      "AgeClass  No-show\n",
      "Adult     No         0.776539\n",
      "          Yes        0.223461\n",
      "Child     No         0.775252\n",
      "          Yes        0.224748\n",
      "Senior    No         0.837542\n",
      "          Yes        0.162458\n",
      "Name: No-show, dtype: float64\n"
     ]
    },
    {
     "data": {
      "image/png": "[encoded data removed]",
      "text/plain": [
       "<matplotlib.figure.Figure at 0x1704b198>"
      ]
     },
     "metadata": {},
     "output_type": "display_data"
    }
   ],
   "source": [
    "# number of patient according to thier aGE CLAss\n",
    "sns.set_style('darkgrid')\n",
    "\n",
    "sns.countplot(Patient['AgeClass'], alpha =.80,palette=\"muted\")\n",
    "plt.title('Classe of Age ')\n",
    "plt.show()\n",
    "\n",
    "print (Patient.groupby('AgeClass')['No-show'].value_counts(normalize = True))\n",
    "\n",
    "sns.set_style('darkgrid')\n",
    "fig = sns.countplot(x='AgeClass', data=Patient,hue='No-show', palette=\"muted\");\n",
    "plt.show()\n"
   ]
  },
  {
   "cell_type": "code",
   "execution_count": 873,
   "metadata": {},
   "outputs": [
    {
     "data": {
      "text/html": [
       "<div>\n",
       "<style>\n",
       "    .dataframe thead tr:only-child th {\n",
       "        text-align: right;\n",
       "    }\n",
       "\n",
       "    .dataframe thead th {\n",
       "        text-align: left;\n",
       "    }\n",
       "\n",
       "    .dataframe tbody tr th {\n",
       "        vertical-align: top;\n",
       "    }\n",
       "</style>\n",
       "<table border=\"1\" class=\"dataframe\">\n",
       "  <thead>\n",
       "    <tr style=\"text-align: right;\">\n",
       "      <th></th>\n",
       "      <th></th>\n",
       "      <th></th>\n",
       "      <th>Age</th>\n",
       "    </tr>\n",
       "    <tr>\n",
       "      <th>AgeClass</th>\n",
       "      <th>No-show</th>\n",
       "      <th>Gender</th>\n",
       "      <th></th>\n",
       "    </tr>\n",
       "  </thead>\n",
       "  <tbody>\n",
       "    <tr>\n",
       "      <th rowspan=\"4\" valign=\"top\">Adult</th>\n",
       "      <th rowspan=\"2\" valign=\"top\">No</th>\n",
       "      <th>F</th>\n",
       "      <td>33.572489</td>\n",
       "    </tr>\n",
       "    <tr>\n",
       "      <th>M</th>\n",
       "      <td>34.514534</td>\n",
       "    </tr>\n",
       "    <tr>\n",
       "      <th rowspan=\"2\" valign=\"top\">Yes</th>\n",
       "      <th>F</th>\n",
       "      <td>32.584786</td>\n",
       "    </tr>\n",
       "    <tr>\n",
       "      <th>M</th>\n",
       "      <td>33.333793</td>\n",
       "    </tr>\n",
       "    <tr>\n",
       "      <th rowspan=\"4\" valign=\"top\">Child</th>\n",
       "      <th rowspan=\"2\" valign=\"top\">No</th>\n",
       "      <th>F</th>\n",
       "      <td>8.753021</td>\n",
       "    </tr>\n",
       "    <tr>\n",
       "      <th>M</th>\n",
       "      <td>7.659483</td>\n",
       "    </tr>\n",
       "    <tr>\n",
       "      <th rowspan=\"2\" valign=\"top\">Yes</th>\n",
       "      <th>F</th>\n",
       "      <td>9.609187</td>\n",
       "    </tr>\n",
       "    <tr>\n",
       "      <th>M</th>\n",
       "      <td>8.618356</td>\n",
       "    </tr>\n",
       "    <tr>\n",
       "      <th rowspan=\"4\" valign=\"top\">Senior</th>\n",
       "      <th rowspan=\"2\" valign=\"top\">No</th>\n",
       "      <th>F</th>\n",
       "      <td>63.419264</td>\n",
       "    </tr>\n",
       "    <tr>\n",
       "      <th>M</th>\n",
       "      <td>63.633761</td>\n",
       "    </tr>\n",
       "    <tr>\n",
       "      <th rowspan=\"2\" valign=\"top\">Yes</th>\n",
       "      <th>F</th>\n",
       "      <td>62.957364</td>\n",
       "    </tr>\n",
       "    <tr>\n",
       "      <th>M</th>\n",
       "      <td>62.999470</td>\n",
       "    </tr>\n",
       "  </tbody>\n",
       "</table>\n",
       "</div>"
      ],
      "text/plain": [
       "                               Age\n",
       "AgeClass No-show Gender           \n",
       "Adult    No      F       33.572489\n",
       "                 M       34.514534\n",
       "         Yes     F       32.584786\n",
       "                 M       33.333793\n",
       "Child    No      F        8.753021\n",
       "                 M        7.659483\n",
       "         Yes     F        9.609187\n",
       "                 M        8.618356\n",
       "Senior   No      F       63.419264\n",
       "                 M       63.633761\n",
       "         Yes     F       62.957364\n",
       "                 M       62.999470"
      ]
     },
     "execution_count": 873,
     "metadata": {},
     "output_type": "execute_result"
    }
   ],
   "source": [
    "\n",
    "pd.pivot_table(Patient,index=['AgeClass','No-show','Gender'],values=[\"Age\"])\n"
   ]
  },
  {
   "cell_type": "markdown",
   "metadata": {},
   "source": [
    "Most patients were between the age of 18 and 49 and the patients below 18 years has the minimum rate of visiting the hospital. However, when we see the show-up status we found patients above 50 years are most likely did not attend their appointment and also the gender did not play any role in this analysis."
   ]
  },
  {
   "cell_type": "markdown",
   "metadata": {},
   "source": [
    "** Scheduled day , Appointmeint Day and Waiting Day **"
   ]
  },
  {
   "cell_type": "code",
   "execution_count": 874,
   "metadata": {},
   "outputs": [
    {
     "data": {
      "text/plain": [
       "Text(0.5,1,u'Scheduledmonth')"
      ]
     },
     "execution_count": 874,
     "metadata": {},
     "output_type": "execute_result"
    },
    {
     "data": {
      "image/png": "[encoded data removed]",
      "text/plain": [
       "<matplotlib.figure.Figure at 0x308ced68>"
      ]
     },
     "metadata": {},
     "output_type": "display_data"
    }
   ],
   "source": [
    "sns.countplot(Patient['Scheduledmonth'])\n",
    "plt.title('Scheduledmonth')\n"
   ]
  },
  {
   "cell_type": "code",
   "execution_count": 875,
   "metadata": {},
   "outputs": [
    {
     "data": {
      "text/plain": [
       "Text(0.5,1,u'Appointmentmonth')"
      ]
     },
     "execution_count": 875,
     "metadata": {},
     "output_type": "execute_result"
    },
    {
     "data": {
      "image/png": "[encoded data removed]",
      "text/plain": [
       "<matplotlib.figure.Figure at 0x39f8a0b8>"
      ]
     },
     "metadata": {},
     "output_type": "display_data"
    }
   ],
   "source": [
    "sns.countplot(Patient['Appointmentmonth'])\n",
    "plt.title('Appointmentmonth')"
   ]
  },
  {
   "cell_type": "code",
   "execution_count": 876,
   "metadata": {},
   "outputs": [
    {
     "data": {
      "text/plain": [
       "<matplotlib.axes._subplots.AxesSubplot at 0x29358cf8>"
      ]
     },
     "execution_count": 876,
     "metadata": {},
     "output_type": "execute_result"
    },
    {
     "data": {
      "image/png": "[encoded data removed]",
      "text/plain": [
       "<matplotlib.figure.Figure at 0x2b6aef98>"
      ]
     },
     "metadata": {},
     "output_type": "display_data"
    }
   ],
   "source": [
    "Patient.Appointmentmonth.value_counts().sort_index().plot()"
   ]
  },
  {
   "cell_type": "code",
   "execution_count": 877,
   "metadata": {},
   "outputs": [
    {
     "data": {
      "text/plain": [
       "<matplotlib.axes._subplots.AxesSubplot at 0x2b1dcf28>"
      ]
     },
     "execution_count": 877,
     "metadata": {},
     "output_type": "execute_result"
    },
    {
     "data": {
      "image/png": "[encoded data removed]",
      "text/plain": [
       "<matplotlib.figure.Figure at 0x38103c50>"
      ]
     },
     "metadata": {},
     "output_type": "display_data"
    }
   ],
   "source": [
    "Patient.Scheduledmonth.value_counts().sort_index().plot()"
   ]
  },
  {
   "cell_type": "markdown",
   "metadata": {
    "collapsed": true
   },
   "source": [
    "ok, in the appointment month it just includes 3 months!! on another hand the Scheduled month missed the months (7 to 10). However, in both diagrams, the most rate appointment was in may which is the end of Autumn in Brazile."
   ]
  },
  {
   "cell_type": "code",
   "execution_count": 878,
   "metadata": {},
   "outputs": [
    {
     "name": "stdout",
     "output_type": "stream",
     "text": [
      "Appointment month : [4, 5, 6]\n",
      "Scheduled month : [1, 2, 3, 4, 5, 6, 11, 12]\n"
     ]
    }
   ],
   "source": [
    "\n",
    "print \"Appointment month : {}\".format(list(set(Patient[\"Appointmentmonth\"]))) \n",
    "print \"Scheduled month : {}\".format(list(set(Patient[\"Scheduledmonth\"])))"
   ]
  },
  {
   "cell_type": "code",
   "execution_count": 879,
   "metadata": {},
   "outputs": [
    {
     "data": {
      "image/png": "[encoded data removed]",
      "text/plain": [
       "<matplotlib.figure.Figure at 0x2a9e34e0>"
      ]
     },
     "metadata": {},
     "output_type": "display_data"
    }
   ],
   "source": [
    "Patient[\"Weekname\"] = Patient.AppointmentDay.dt.weekday_name\n",
    "fig = sns.countplot(x='Weekname', data=Patient,hue='No-show', palette=\"muted\");\n",
    "plt.show()\n"
   ]
  },
  {
   "cell_type": "code",
   "execution_count": 880,
   "metadata": {},
   "outputs": [
    {
     "name": "stdout",
     "output_type": "stream",
     "text": [
      "178.0\n",
      "-7.0\n"
     ]
    }
   ],
   "source": [
    "\n",
    "Patient['WaitingDay'] = Patient['WaitingDay'].astype('timedelta64[D]')\n",
    "print(Patient.WaitingDay.max())\n",
    "print (Patient.WaitingDay.min())\n",
    "## delete the nagative values\n",
    "##check the nigative valuues \n",
    "#Patient.loc[Patient['WaitingDay']<0]\n",
    "Patient=Patient[Patient.WaitingDay>=0]"
   ]
  },
  {
   "cell_type": "code",
   "execution_count": 881,
   "metadata": {},
   "outputs": [
    {
     "data": {
      "text/plain": [
       "<matplotlib.axes._subplots.AxesSubplot at 0x37f02f28>"
      ]
     },
     "execution_count": 881,
     "metadata": {},
     "output_type": "execute_result"
    },
    {
     "data": {
      "image/png": "[encoded data removed]",
      "text/plain": [
       "<matplotlib.figure.Figure at 0x39f5b5f8>"
      ]
     },
     "metadata": {},
     "output_type": "display_data"
    }
   ],
   "source": [
    "## waiting day distrbuation\n",
    "sns.stripplot(y=\"WaitingDay\",data=Patient, jitter=True)\n"
   ]
  },
  {
   "cell_type": "code",
   "execution_count": 882,
   "metadata": {},
   "outputs": [
    {
     "data": {
      "text/plain": [
       "<matplotlib.axes._subplots.AxesSubplot at 0x38540e48>"
      ]
     },
     "execution_count": 882,
     "metadata": {},
     "output_type": "execute_result"
    },
    {
     "data": {
      "image/png": "[encoded data removed]",
      "text/plain": [
       "<matplotlib.figure.Figure at 0x381cd4e0>"
      ]
     },
     "metadata": {},
     "output_type": "display_data"
    }
   ],
   "source": [
    "sns.stripplot(x=\"No-show\" ,y=\"WaitingDay\",hue=\"No-show\",data=Patient, jitter=True)\n"
   ]
  },
  {
   "cell_type": "markdown",
   "metadata": {},
   "source": [
    "The patient tends to attend his appointment in the middle of the week, and no show up at the end of the week, especially in Thursday. If we focus on the waiting day and how the data is distribution we can see there is \n",
    "a drop in the appointment number after the three months of waiting especially for the group who not came to there appointments."
   ]
  },
  {
   "cell_type": "markdown",
   "metadata": {},
   "source": [
    "**How the Sms reminder and handicap variables affect the patient attendance ??**"
   ]
  },
  {
   "cell_type": "code",
   "execution_count": 883,
   "metadata": {},
   "outputs": [
    {
     "name": "stdout",
     "output_type": "stream",
     "text": [
      "0    104739\n",
      "1      2033\n",
      "2       183\n",
      "3        13\n",
      "4         3\n",
      "Name: Handcap, dtype: int64\n",
      "Handcap  No-show\n",
      "0        No         0.796924\n",
      "         Yes        0.203076\n",
      "1        No         0.822430\n",
      "         Yes        0.177570\n",
      "2        No         0.797814\n",
      "         Yes        0.202186\n",
      "3        No         0.769231\n",
      "         Yes        0.230769\n",
      "4        No         0.666667\n",
      "         Yes        0.333333\n",
      "Name: No-show, dtype: float64\n"
     ]
    }
   ],
   "source": [
    "print(Patient[\"Handcap\"].value_counts())\n",
    "print(Patient.groupby('Handcap')['No-show'].value_counts(normalize = True))\n",
    "\n"
   ]
  },
  {
   "cell_type": "code",
   "execution_count": 884,
   "metadata": {},
   "outputs": [
    {
     "name": "stdout",
     "output_type": "stream",
     "text": [
      "0    72388\n",
      "1    34583\n",
      "Name: SMS_received, dtype: int64\n",
      "SMS_received  No-show\n",
      "0             No         0.832790\n",
      "              Yes        0.167210\n",
      "1             No         0.723332\n",
      "              Yes        0.276668\n",
      "Name: No-show, dtype: float64\n"
     ]
    }
   ],
   "source": [
    "print(Patient[\"SMS_received\"].value_counts())\n",
    "\n",
    "print(Patient.groupby('SMS_received')['No-show'].value_counts(normalize = True))\n"
   ]
  },
  {
   "cell_type": "markdown",
   "metadata": {},
   "source": [
    "### Predictive Model"
   ]
  },
  {
   "cell_type": "code",
   "execution_count": 885,
   "metadata": {
    "collapsed": true
   },
   "outputs": [],
   "source": [
    "## convert to numercal\n",
    "Patient = Patient.replace('Yes',1)\n",
    "Patient = Patient.replace('No',0)\n"
   ]
  },
  {
   "cell_type": "code",
   "execution_count": 886,
   "metadata": {
    "collapsed": true
   },
   "outputs": [],
   "source": [
    "from sklearn import preprocessing\n",
    "le = preprocessing.LabelEncoder()\n",
    "le.fit(Patient[\"Neighbourhood\"])\n",
    "Patient[\"Neighbourhood\"]=le.transform(Patient[\"Neighbourhood\"])\n"
   ]
  },
  {
   "cell_type": "code",
   "execution_count": 887,
   "metadata": {
    "collapsed": true
   },
   "outputs": [],
   "source": [
    "Patient = Patient.drop(['ScheduledDay','AppointmentDay','AgeClass','Weekname','Gender'],axis=1)"
   ]
  },
  {
   "cell_type": "code",
   "execution_count": 888,
   "metadata": {
    "collapsed": true
   },
   "outputs": [],
   "source": [
    "#cols = Patient.columns.tolist()\n",
    "#cols = cols[-1:] + cols[:-1]\n",
    "#Patient = Patient[cols] "
   ]
  },
  {
   "cell_type": "code",
   "execution_count": null,
   "metadata": {
    "collapsed": true
   },
   "outputs": [],
   "source": []
  },
  {
   "cell_type": "code",
   "execution_count": 889,
   "metadata": {},
   "outputs": [
    {
     "name": "stdout",
     "output_type": "stream",
     "text": [
      "<class 'pandas.core.frame.DataFrame'>\n",
      "Int64Index: 106971 entries, 0 to 110526\n",
      "Data columns (total 17 columns):\n",
      "Age                 106971 non-null int64\n",
      "Neighbourhood       106971 non-null int64\n",
      "Scholarship         106971 non-null int64\n",
      "Hypertension        106971 non-null int64\n",
      "Diabetes            106971 non-null int64\n",
      "Alcoholism          106971 non-null int64\n",
      "Handcap             106971 non-null int64\n",
      "SMS_received        106971 non-null int64\n",
      "No-show             106971 non-null int64\n",
      "Scheduledyear       106971 non-null int64\n",
      "Scheduledmonth      106971 non-null int64\n",
      "Scheduledweek       106971 non-null int64\n",
      "Scheduledhour       106971 non-null int64\n",
      "Appointmentyear     106971 non-null int64\n",
      "Appointmentmonth    106971 non-null int64\n",
      "Appointmentweek     106971 non-null int64\n",
      "WaitingDay          106971 non-null float64\n",
      "dtypes: float64(1), int64(16)\n",
      "memory usage: 19.7 MB\n"
     ]
    }
   ],
   "source": [
    "Patient.info()"
   ]
  },
  {
   "cell_type": "code",
   "execution_count": 890,
   "metadata": {
    "collapsed": true
   },
   "outputs": [],
   "source": [
    "y = Patient['No-show'].values\n",
    "del Patient['No-show']\n",
    "x = Patient.values\n",
    "#print (np.unique(y))"
   ]
  },
  {
   "cell_type": "code",
   "execution_count": 893,
   "metadata": {},
   "outputs": [
    {
     "name": "stdout",
     "output_type": "stream",
     "text": [
      "('With DecisionTree ', 0.76713822759566253)\n"
     ]
    }
   ],
   "source": [
    "##from sklearn.metrics import classification_report\n",
    "from sklearn import tree\n",
    "clf = tree.DecisionTreeClassifier(max_depth=15)\n",
    "clf.fit(x_train,y_train)\n",
    "pred = clf.predict(x_test)\n",
    "print('With DecisionTree ',clf.score(x_test,y_test))\n",
    "#print \"This is the validation matrix\"\n",
    "##report = classification_report(y_test, pred )\n",
    "##print report\n",
    "\n"
   ]
  },
  {
   "cell_type": "markdown",
   "metadata": {},
   "source": [
    "### Conclusion and future work:\n",
    "\n",
    "I try to identify how each variable in the dataset could affect the patient show up status and I found the adult patient tend to came to their appointment more than other ages also the patient are more likely to show up in middle of week more than the start of week and finally I built a predictive model to predict the patient who no show up, However there a lot to do to explore more variables in this data set and also the predictive model need to optimize."
   ]
  }
 ],
 "metadata": {
  "kernelspec": {
   "display_name": "Python 2",
   "language": "python",
   "name": "python2"
  },
  "language_info": {
   "codemirror_mode": {
    "name": "ipython",
    "version": 2
   },
   "file_extension": ".py",
   "mimetype": "text/x-python",
   "name": "python",
   "nbconvert_exporter": "python",
   "pygments_lexer": "ipython2",
   "version": "2.7.14"
  }
 },
 "nbformat": 4,
 "nbformat_minor": 2
}
